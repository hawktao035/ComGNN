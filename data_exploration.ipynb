{
 "cells": [
  {
   "cell_type": "markdown",
   "metadata": {},
   "source": [
    "## Data exploration "
   ]
  },
  {
   "cell_type": "markdown",
   "metadata": {},
   "source": [
    "Naming convention: &lt;region&gt;_&lt;rainfall-event&gt;.npz"
   ]
  },
  {
   "cell_type": "code",
   "execution_count": 33,
   "metadata": {},
   "outputs": [],
   "source": [
    "import numpy as np "
   ]
  },
  {
   "cell_type": "code",
   "execution_count": 34,
   "metadata": {},
   "outputs": [],
   "source": [
    "data = np.load('./data/sims_harvey.npz')"
   ]
  },
  {
   "cell_type": "markdown",
   "metadata": {},
   "source": [
    "Each data sample is a dictionary with the following keys "
   ]
  },
  {
   "cell_type": "code",
   "execution_count": 35,
   "metadata": {},
   "outputs": [
    {
     "data": {
      "text/plain": [
       "(269168, 2)"
      ]
     },
     "execution_count": 35,
     "metadata": {},
     "output_type": "execute_result"
    }
   ],
   "source": [
    "# static, edges, cell_feats\n",
    "data['static'].shape"
   ]
  },
  {
   "cell_type": "markdown",
   "metadata": {},
   "source": [
    "`static` has two dimensions: number of nodes, and two features.\n",
    "\n",
    "* feature 1: DEM data (data evelation) \n",
    "* feature 2: Manning's coefficient of friction"
   ]
  },
  {
   "cell_type": "code",
   "execution_count": 36,
   "metadata": {},
   "outputs": [
    {
     "data": {
      "text/plain": [
       "(268254, 2)"
      ]
     },
     "execution_count": 36,
     "metadata": {},
     "output_type": "execute_result"
    }
   ],
   "source": [
    "data['edges'].shape"
   ]
  },
  {
   "cell_type": "markdown",
   "metadata": {},
   "source": [
    "`edges`: edge list of regions represented as a graph \n",
    "\n",
    "Note: Since each node has only one outgoing edges, the number of nodes is equal to the numbe of edges."
   ]
  },
  {
   "cell_type": "code",
   "execution_count": 37,
   "metadata": {},
   "outputs": [
    {
     "data": {
      "text/plain": [
       "(269168, 50, 3)"
      ]
     },
     "execution_count": 37,
     "metadata": {},
     "output_type": "execute_result"
    }
   ],
   "source": [
    "data['cell_feats'].shape"
   ]
  },
  {
   "cell_type": "markdown",
   "metadata": {},
   "source": [
    "`cell_feats` has three dimensions: number of nodes, time axis, and three features.\n",
    "\n",
    "* feature 1: water depth \n",
    "* feature 2: surface water elevation (water depth + DEM) \n",
    "* feature 3: rainfall data."
   ]
  },
  {
   "cell_type": "markdown",
   "metadata": {},
   "source": [
    "## Graph: Node indices  \n",
    "\n",
    "*Note*: The rest of the notebook uses np.array instead of torch.Tensor"
   ]
  },
  {
   "cell_type": "markdown",
   "metadata": {},
   "source": [
    "Load a dem file and extract its mask "
   ]
  },
  {
   "cell_type": "code",
   "execution_count": 38,
   "metadata": {},
   "outputs": [],
   "source": [
    "from esri_data import read_esri_ascii_raster \n",
    "\n",
    "# There is a dem file for each watershed/region in the data folder.\n",
    "dem = read_esri_ascii_raster(f'data/sims_dem.asc', '\\s')\n",
    "dem_data = dem.matrix \n",
    "mask = (dem_data != dem.nodata_value)"
   ]
  },
  {
   "cell_type": "markdown",
   "metadata": {},
   "source": [
    "Generate node indices: each node/cell get assigned index from 0 to N - 1, where N is the total number of nodes"
   ]
  },
  {
   "cell_type": "code",
   "execution_count": 39,
   "metadata": {},
   "outputs": [],
   "source": [
    "non_valid_idx = -1\n",
    "node_indx = np.full(mask.shape, fill_value=non_valid_idx) # [H x W]\n",
    "num_nodes = mask.sum()\n",
    "node_indx[mask] = np.arange(num_nodes)"
   ]
  },
  {
   "cell_type": "markdown",
   "metadata": {},
   "source": [
    "## Grid reconstruction from graph "
   ]
  },
  {
   "cell_type": "markdown",
   "metadata": {},
   "source": [
    "* Using a random array/tensor with random dimension, except for first dimension (which should be the same as the number of nodes) to show that any output of the model can be converted back to the grid representation.  \n",
    "\n"
   ]
  },
  {
   "cell_type": "code",
   "execution_count": 40,
   "metadata": {},
   "outputs": [],
   "source": [
    "random_dim1 = 30 \n",
    "random_dim2 = 53\n",
    "output_arr = np.random.randn(data['static'].shape[0], random_dim1, random_dim2) # \n",
    "\n",
    "# Create grid \n",
    "grid = np.random.randn(*mask.shape[:2], random_dim1, random_dim2)\n",
    "\n",
    "# Assign output_arr to valid cells grid \n",
    "grid[mask] = output_arr "
   ]
  },
  {
   "cell_type": "code",
   "execution_count": null,
   "metadata": {},
   "outputs": [],
   "source": []
  }
 ],
 "metadata": {
  "kernelspec": {
   "display_name": "flood",
   "language": "python",
   "name": "python3"
  },
  "language_info": {
   "codemirror_mode": {
    "name": "ipython",
    "version": 3
   },
   "file_extension": ".py",
   "mimetype": "text/x-python",
   "name": "python",
   "nbconvert_exporter": "python",
   "pygments_lexer": "ipython3",
   "version": "3.8.18"
  }
 },
 "nbformat": 4,
 "nbformat_minor": 2
}
